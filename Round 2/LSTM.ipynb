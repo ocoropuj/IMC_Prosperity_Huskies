{
  "cells": [
    {
      "cell_type": "code",
      "execution_count": 7,
      "metadata": {
        "id": "_u2fFfgCQ7_e"
      },
      "outputs": [],
      "source": [
        "import numpy as np\n",
        "import pandas as pd\n",
        "import math"
      ]
    },
    {
      "cell_type": "code",
      "execution_count": 8,
      "metadata": {},
      "outputs": [],
      "source": [
        "def load_weights_and_biases():\n",
        "    gates = ['i', 'f', 'o', 'c']\n",
        "    ih_weights, hh_weights, ih_biases, hh_biases = {}, {}, {}, {}\n",
        "\n",
        "    for gate in gates:\n",
        "        ih_weights[gate] = pd.read_csv(f\"LSTM_ih_weights_{gate}.csv\").values\n",
        "        hh_weights[gate] = pd.read_csv(f\"LSTM_hh_weights_{gate}.csv\").values\n",
        "        ih_biases[gate] = pd.read_csv(f\"LSTM_ih_biases_{gate}.csv\").values.flatten()\n",
        "        hh_biases[gate] = pd.read_csv(f\"LSTM_hh_biases_{gate}.csv\").values.flatten()\n",
        "\n",
        "    linear_weights = pd.read_csv(\"Linear_weights.csv\").values\n",
        "    linear_bias = pd.read_csv(\"Linear_bias.csv\").values.flatten()\n",
        "\n",
        "    return ih_weights, hh_weights, ih_biases, hh_biases, linear_weights, linear_bias\n",
        "\n",
        "ih_weights, hh_weights, ih_biases, hh_biases, linear_weights, linear_bias = load_weights_and_biases()\n"
      ]
    },
    {
      "cell_type": "code",
      "execution_count": 9,
      "metadata": {},
      "outputs": [],
      "source": [
        "class SimpleLSTM:\n",
        "    def __init__(self, ih_weights, hh_weights, ih_biases, hh_biases, linear_weights, linear_bias):\n",
        "        self.ih_weights = {key: val.T for key, val in ih_weights.items()}  # Transpose weights\n",
        "        self.hh_weights = {key: val.T for key, val in hh_weights.items()}\n",
        "        self.ih_biases = ih_biases\n",
        "        self.hh_biases = hh_biases\n",
        "        self.linear_weights = linear_weights\n",
        "        self.linear_bias = linear_bias\n",
        "\n",
        "    def sigmoid(self, x):\n",
        "        return 1 / (1 + np.exp(-x))\n",
        "\n",
        "    def tanh(self, x):\n",
        "        return np.tanh(x)\n",
        "\n",
        "    def forward(self, x):\n",
        "        h_prev = np.zeros((x.shape[0], self.hh_weights['i'].shape[1]))\n",
        "        c_prev = np.zeros((x.shape[0], self.hh_weights['i'].shape[1]))\n",
        "\n",
        "        for time_step in range(x.shape[1]):\n",
        "            x_t = x[:, time_step, :]\n",
        "\n",
        "            i = self.sigmoid(np.dot(x_t, self.ih_weights['i']) + np.dot(h_prev, self.hh_weights['i']) + self.ih_biases['i'] + self.hh_biases['i'])\n",
        "            f = self.sigmoid(np.dot(x_t, self.ih_weights['f']) + np.dot(h_prev, self.hh_weights['f']) + self.ih_biases['f'] + self.hh_biases['f'])\n",
        "            o = self.sigmoid(np.dot(x_t, self.ih_weights['o']) + np.dot(h_prev, self.hh_weights['o']) + self.ih_biases['o'] + self.hh_biases['o'])\n",
        "            g = self.tanh(np.dot(x_t, self.ih_weights['c']) + np.dot(h_prev, self.hh_weights['c']) + self.ih_biases['c'] + self.hh_biases['c'])\n",
        "\n",
        "            c_curr = f * c_prev + i * g\n",
        "            h_curr = o * self.tanh(c_curr)\n",
        "\n",
        "            h_prev, c_prev = h_curr, c_curr\n",
        "\n",
        "        output = np.dot(h_curr, self.linear_weights.T) + self.linear_bias  # Ensure linear weights are correctly aligned\n",
        "        return output\n"
      ]
    },
    {
      "cell_type": "code",
      "execution_count": 10,
      "metadata": {},
      "outputs": [],
      "source": [
        "data_day_minus1 = pd.read_csv('/Users/oscar/Library/CloudStorage/OneDrive-Personal/Documents/PERSONAL/Finance/Competition/IMC Prosperity/IMC_Prosperity_Huskies/Round 2/round-2-island-data-bottle/prices_round_2_day_-1.csv', sep=';')\n",
        "data_day_0 = pd.read_csv('/Users/oscar/Library/CloudStorage/OneDrive-Personal/Documents/PERSONAL/Finance/Competition/IMC Prosperity/IMC_Prosperity_Huskies/Round 2/round-2-island-data-bottle/prices_round_2_day_0.csv', sep=';')\n",
        "data_day_plus1 = pd.read_csv('/Users/oscar/Library/CloudStorage/OneDrive-Personal/Documents/PERSONAL/Finance/Competition/IMC Prosperity/IMC_Prosperity_Huskies/Round 2/round-2-island-data-bottle/prices_round_2_day_1.csv', sep=';')"
      ]
    },
    {
      "cell_type": "code",
      "execution_count": 11,
      "metadata": {},
      "outputs": [],
      "source": [
        "train_data_0 = data_day_0[['ORCHIDS', 'TRANSPORT_FEES', 'EXPORT_TARIFF', 'IMPORT_TARIFF', 'SUNLIGHT', 'HUMIDITY']]\n",
        "train_data_0.index = data_day_0.timestamp\n",
        "\n",
        "train_data_m1 = data_day_minus1[['ORCHIDS', 'TRANSPORT_FEES', 'EXPORT_TARIFF', 'IMPORT_TARIFF', 'SUNLIGHT', 'HUMIDITY']]\n",
        "train_data_m1.index = data_day_minus1.timestamp\n",
        "\n",
        "train_data_p1 = data_day_plus1[['ORCHIDS', 'TRANSPORT_FEES', 'EXPORT_TARIFF', 'IMPORT_TARIFF', 'SUNLIGHT', 'HUMIDITY']]\n",
        "train_data_p1.index = data_day_plus1.timestamp\n"
      ]
    },
    {
      "cell_type": "code",
      "execution_count": 26,
      "metadata": {},
      "outputs": [],
      "source": [
        "Mu_day0 = np.array([ 1.04125117e+03,  1.38491151e+00,  9.96115388e+00, -2.57076292e+00,\n",
        "        2.27953335e+03,  7.40365235e+01])\n",
        "\n",
        "Sigma_day0 = np.array([4.51427120e+01, 1.93678379e-01, 1.58433451e+00, 3.49320924e-01,\n",
        "       8.13568530e+02, 1.01992251e+01])\n",
        "\n",
        "N_train_data_0 = (train_data_0 - Mu_day0) / Sigma_day0\n",
        "N_train_data_m1 = (train_data_m1 - Mu_day0) / Sigma_day0\n",
        "N_train_data_p1 = (train_data_p1 - Mu_day0) / Sigma_day0"
      ]
    },
    {
      "cell_type": "code",
      "execution_count": 27,
      "metadata": {},
      "outputs": [
        {
          "data": {
            "text/html": [
              "<div>\n",
              "<style scoped>\n",
              "    .dataframe tbody tr th:only-of-type {\n",
              "        vertical-align: middle;\n",
              "    }\n",
              "\n",
              "    .dataframe tbody tr th {\n",
              "        vertical-align: top;\n",
              "    }\n",
              "\n",
              "    .dataframe thead th {\n",
              "        text-align: right;\n",
              "    }\n",
              "</style>\n",
              "<table border=\"1\" class=\"dataframe\">\n",
              "  <thead>\n",
              "    <tr style=\"text-align: right;\">\n",
              "      <th></th>\n",
              "      <th>ORCHIDS</th>\n",
              "      <th>TRANSPORT_FEES</th>\n",
              "      <th>EXPORT_TARIFF</th>\n",
              "      <th>IMPORT_TARIFF</th>\n",
              "      <th>SUNLIGHT</th>\n",
              "      <th>HUMIDITY</th>\n",
              "    </tr>\n",
              "    <tr>\n",
              "      <th>timestamp</th>\n",
              "      <th></th>\n",
              "      <th></th>\n",
              "      <th></th>\n",
              "      <th></th>\n",
              "      <th></th>\n",
              "      <th></th>\n",
              "    </tr>\n",
              "  </thead>\n",
              "  <tbody>\n",
              "    <tr>\n",
              "      <th>0</th>\n",
              "      <td>1.262636</td>\n",
              "      <td>-2.503695</td>\n",
              "      <td>0.340109</td>\n",
              "      <td>-6.95417</td>\n",
              "      <td>-0.220674</td>\n",
              "      <td>-0.395768</td>\n",
              "    </tr>\n",
              "    <tr>\n",
              "      <th>100</th>\n",
              "      <td>1.262636</td>\n",
              "      <td>-2.503695</td>\n",
              "      <td>-0.291071</td>\n",
              "      <td>-6.95417</td>\n",
              "      <td>-0.220973</td>\n",
              "      <td>-0.393541</td>\n",
              "    </tr>\n",
              "    <tr>\n",
              "      <th>200</th>\n",
              "      <td>1.229408</td>\n",
              "      <td>-2.503695</td>\n",
              "      <td>-0.291071</td>\n",
              "      <td>-6.95417</td>\n",
              "      <td>-0.221272</td>\n",
              "      <td>-0.391317</td>\n",
              "    </tr>\n",
              "    <tr>\n",
              "      <th>300</th>\n",
              "      <td>1.234946</td>\n",
              "      <td>-2.503695</td>\n",
              "      <td>-0.291071</td>\n",
              "      <td>-6.95417</td>\n",
              "      <td>-0.221573</td>\n",
              "      <td>-0.389098</td>\n",
              "    </tr>\n",
              "    <tr>\n",
              "      <th>400</th>\n",
              "      <td>1.240484</td>\n",
              "      <td>-2.503695</td>\n",
              "      <td>-0.291071</td>\n",
              "      <td>-6.95417</td>\n",
              "      <td>-0.221875</td>\n",
              "      <td>-0.386881</td>\n",
              "    </tr>\n",
              "    <tr>\n",
              "      <th>...</th>\n",
              "      <td>...</td>\n",
              "      <td>...</td>\n",
              "      <td>...</td>\n",
              "      <td>...</td>\n",
              "      <td>...</td>\n",
              "      <td>...</td>\n",
              "    </tr>\n",
              "    <tr>\n",
              "      <th>999600</th>\n",
              "      <td>-0.110786</td>\n",
              "      <td>-2.503695</td>\n",
              "      <td>-0.291071</td>\n",
              "      <td>-6.95417</td>\n",
              "      <td>0.025087</td>\n",
              "      <td>-0.402093</td>\n",
              "    </tr>\n",
              "    <tr>\n",
              "      <th>999700</th>\n",
              "      <td>-0.110786</td>\n",
              "      <td>-2.503695</td>\n",
              "      <td>-0.291071</td>\n",
              "      <td>-6.95417</td>\n",
              "      <td>0.025102</td>\n",
              "      <td>-0.400520</td>\n",
              "    </tr>\n",
              "    <tr>\n",
              "      <th>999800</th>\n",
              "      <td>-0.110786</td>\n",
              "      <td>-2.503695</td>\n",
              "      <td>-0.291071</td>\n",
              "      <td>-6.95417</td>\n",
              "      <td>0.025119</td>\n",
              "      <td>-0.398942</td>\n",
              "    </tr>\n",
              "    <tr>\n",
              "      <th>999900</th>\n",
              "      <td>-0.155090</td>\n",
              "      <td>-2.503695</td>\n",
              "      <td>-0.291071</td>\n",
              "      <td>-6.95417</td>\n",
              "      <td>0.025137</td>\n",
              "      <td>-0.397358</td>\n",
              "    </tr>\n",
              "    <tr>\n",
              "      <th>1000000</th>\n",
              "      <td>-0.132938</td>\n",
              "      <td>-2.503695</td>\n",
              "      <td>-0.291071</td>\n",
              "      <td>-6.95417</td>\n",
              "      <td>0.025157</td>\n",
              "      <td>-0.395768</td>\n",
              "    </tr>\n",
              "  </tbody>\n",
              "</table>\n",
              "<p>10001 rows × 6 columns</p>\n",
              "</div>"
            ],
            "text/plain": [
              "            ORCHIDS  TRANSPORT_FEES  EXPORT_TARIFF  IMPORT_TARIFF  SUNLIGHT  \\\n",
              "timestamp                                                                     \n",
              "0          1.262636       -2.503695       0.340109       -6.95417 -0.220674   \n",
              "100        1.262636       -2.503695      -0.291071       -6.95417 -0.220973   \n",
              "200        1.229408       -2.503695      -0.291071       -6.95417 -0.221272   \n",
              "300        1.234946       -2.503695      -0.291071       -6.95417 -0.221573   \n",
              "400        1.240484       -2.503695      -0.291071       -6.95417 -0.221875   \n",
              "...             ...             ...            ...            ...       ...   \n",
              "999600    -0.110786       -2.503695      -0.291071       -6.95417  0.025087   \n",
              "999700    -0.110786       -2.503695      -0.291071       -6.95417  0.025102   \n",
              "999800    -0.110786       -2.503695      -0.291071       -6.95417  0.025119   \n",
              "999900    -0.155090       -2.503695      -0.291071       -6.95417  0.025137   \n",
              "1000000   -0.132938       -2.503695      -0.291071       -6.95417  0.025157   \n",
              "\n",
              "           HUMIDITY  \n",
              "timestamp            \n",
              "0         -0.395768  \n",
              "100       -0.393541  \n",
              "200       -0.391317  \n",
              "300       -0.389098  \n",
              "400       -0.386881  \n",
              "...             ...  \n",
              "999600    -0.402093  \n",
              "999700    -0.400520  \n",
              "999800    -0.398942  \n",
              "999900    -0.397358  \n",
              "1000000   -0.395768  \n",
              "\n",
              "[10001 rows x 6 columns]"
            ]
          },
          "execution_count": 27,
          "metadata": {},
          "output_type": "execute_result"
        }
      ],
      "source": [
        "N_train_data_p1"
      ]
    },
    {
      "cell_type": "code",
      "execution_count": 14,
      "metadata": {},
      "outputs": [],
      "source": [
        "sequence_length = 15\n",
        "index = np.random.randint(0,5000)\n",
        "test_input = np.array([N_train_data_p1.iloc[index:index+sequence_length].values])"
      ]
    },
    {
      "cell_type": "code",
      "execution_count": 15,
      "metadata": {},
      "outputs": [],
      "source": [
        "# Assuming input X is loaded or created with appropriate shape [batch_size, sequence_length, input_size]\n",
        "model = SimpleLSTM(ih_weights, hh_weights, ih_biases, hh_biases, linear_weights, linear_bias)\n"
      ]
    },
    {
      "cell_type": "code",
      "execution_count": 16,
      "metadata": {},
      "outputs": [],
      "source": [
        "# Assuming the SimpleLSTM class and the weight variables are defined and initialized as shown previously\n",
        "output = model.forward(test_input)\n"
      ]
    },
    {
      "cell_type": "code",
      "execution_count": 17,
      "metadata": {},
      "outputs": [
        {
          "data": {
            "text/plain": [
              "array([[ 0.57005998, -0.84870977, -0.13065206, -0.77768019, -0.55007663,\n",
              "         0.19743686]])"
            ]
          },
          "execution_count": 17,
          "metadata": {},
          "output_type": "execute_result"
        }
      ],
      "source": [
        "output"
      ]
    },
    {
      "cell_type": "code",
      "execution_count": 18,
      "metadata": {},
      "outputs": [
        {
          "name": "stdout",
          "output_type": "stream",
          "text": [
            "Input-to-hidden weights shape (i): (6, 10)\n",
            "Hidden-to-hidden weights shape (i): (10, 10)\n",
            "Input shape: (1, 15, 6)\n"
          ]
        }
      ],
      "source": [
        "print(\"Input-to-hidden weights shape (i):\", model.ih_weights['i'].shape)\n",
        "print(\"Hidden-to-hidden weights shape (i):\", model.hh_weights['i'].shape)\n",
        "print(\"Input shape:\", test_input.shape)\n"
      ]
    },
    {
      "cell_type": "code",
      "execution_count": null,
      "metadata": {},
      "outputs": [],
      "source": []
    }
  ],
  "metadata": {
    "colab": {
      "provenance": []
    },
    "kernelspec": {
      "display_name": "Python 3",
      "name": "python3"
    },
    "language_info": {
      "codemirror_mode": {
        "name": "ipython",
        "version": 3
      },
      "file_extension": ".py",
      "mimetype": "text/x-python",
      "name": "python",
      "nbconvert_exporter": "python",
      "pygments_lexer": "ipython3",
      "version": "3.8.16"
    }
  },
  "nbformat": 4,
  "nbformat_minor": 0
}
